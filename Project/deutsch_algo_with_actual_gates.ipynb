{
 "cells": [
  {
   "cell_type": "markdown",
   "id": "3e013f93",
   "metadata": {},
   "source": [
    "# Deutsch Algorithm implementation"
   ]
  },
  {
   "cell_type": "code",
   "execution_count": 1,
   "id": "4226c961",
   "metadata": {},
   "outputs": [],
   "source": [
    "%matplotlib inline\n",
    "import qutip as qt\n",
    "from qutip import *\n",
    "from pylab import *\n",
    "from scipy import *\n",
    "from scipy.integrate import quad\n",
    "from scipy.linalg import expm\n",
    "from mpl_toolkits.mplot3d import Axes3D\n",
    "import numpy as np\n",
    "import matplotlib.pyplot as plt\n",
    "from cycler import cycler\n",
    "import string\n",
    "import time"
   ]
  },
  {
   "cell_type": "code",
   "execution_count": 2,
   "id": "c280eb73",
   "metadata": {
    "scrolled": true
   },
   "outputs": [
    {
     "name": "stdout",
     "output_type": "stream",
     "text": [
      "[ 0.99586903-7.41132829e-02j -0.00139091-3.70557703e-02j\n",
      "  0.00140479+3.50934377e-07j -0.00139091-3.70557703e-02j]\n"
     ]
    }
   ],
   "source": [
    "# Define the Pauli matrices\n",
    "sigma_x = np.array([[0, 1], [1, 0]])\n",
    "sigma_y = np.array([[0, -1j], [1j, 0]])\n",
    "sigma_z = np.array([[1, 0], [0, -1]])\n",
    "\n",
    "# Define the Hamiltonian parameters\n",
    "Ec = 1   # charging energy\n",
    "Ej = 0.005   # Josephson energy\n",
    "ng1 = 0.5  # gate charge for qubit 1\n",
    "ng2 = 0.5  # gate charge for qubit 2\n",
    "t = 0.15    # evolution time\n",
    "Ecc = -0.005 # Columb charging \n",
    "\n",
    "# Define the Hamiltonian matrices\n",
    "n1 = np.diag([0, 1])\n",
    "n2 = np.diag([0, 1])\n",
    "H1 = Ec * np.kron(sigma_z, (n1 - ng1) ** 2) - 0.5 * Ej * np.kron(sigma_x, np.eye(2))\n",
    "H2 = Ec * np.kron((n2 - ng2) ** 2, sigma_z) - 0.5 * Ej * np.kron(np.eye(2), sigma_x)\n",
    "H12 = Ecc * np.kron(sigma_z, sigma_z)\n",
    "\n",
    "# Construct the total Hamiltonian\n",
    "H = H1 + H2 + H12\n",
    "\n",
    "# Define the ideal CNOT gate matrix\n",
    "CNOT_ideal = np.array([[1, 0, 0, 0], [0, 1, 0, 0], [0, 0, 0, 1], [0, 0, 1, 0]])\n",
    "\n",
    "# Define the initial state vector\n",
    "psi0 = np.array([1, 0, 0, 0])   # |00> state\n",
    "\n",
    "# Compute the time-evolution operator\n",
    "U = expm(-1j * H * t) # we set hbar = 1 \n",
    "\n",
    "# Apply the ideal CNOT gate to the initial state vector\n",
    "psi_final = np.dot(CNOT_ideal, np.dot(U, psi0))\n",
    "\n",
    "# Print the final state vector\n",
    "print(psi_final)"
   ]
  },
  {
   "cell_type": "code",
   "execution_count": 3,
   "id": "c3b3a866",
   "metadata": {},
   "outputs": [
    {
     "data": {
      "text/plain": [
       "(4, 4)"
      ]
     },
     "execution_count": 3,
     "metadata": {},
     "output_type": "execute_result"
    }
   ],
   "source": [
    "# Define the actual gate matrix\n",
    "U_actual = np.reshape(psi_final, (2, 2))\n",
    "U_actual = np.kron(U_actual, np.eye(2))\n",
    "\n",
    "U_actual.shape"
   ]
  },
  {
   "cell_type": "code",
   "execution_count": 4,
   "id": "c001a73e",
   "metadata": {},
   "outputs": [
    {
     "data": {
      "text/plain": [
       "array([[ 0.99586903-7.41132829e-02j,  0.        +0.00000000e+00j,\n",
       "        -0.00139091-3.70557703e-02j,  0.        -0.00000000e+00j],\n",
       "       [ 0.        +0.00000000e+00j,  0.99586903-7.41132829e-02j,\n",
       "         0.        -0.00000000e+00j, -0.00139091-3.70557703e-02j],\n",
       "       [ 0.00140479+3.50934377e-07j,  0.        +0.00000000e+00j,\n",
       "        -0.00139091-3.70557703e-02j,  0.        -0.00000000e+00j],\n",
       "       [ 0.        +0.00000000e+00j,  0.00140479+3.50934377e-07j,\n",
       "         0.        -0.00000000e+00j, -0.00139091-3.70557703e-02j]])"
      ]
     },
     "execution_count": 4,
     "metadata": {},
     "output_type": "execute_result"
    }
   ],
   "source": [
    "U_actual"
   ]
  },
  {
   "cell_type": "code",
   "execution_count": 5,
   "id": "a185733f",
   "metadata": {},
   "outputs": [],
   "source": [
    "import numpy as np\n",
    "from scipy.linalg import norm \n",
    "\n",
    "H_matrix=1/np.sqrt(2)*np.array([[1, 1],\n",
    "                                [1,-1]])\n",
    "\n",
    "# CNOT_matrix=np.array([[1,0,0,0],\n",
    "#                       [0,1,0,0],\n",
    "#                       [0,0,0,1],\n",
    "#                       [0,0,1,0]])\n",
    "\n",
    "# Using actual gate matrix instead of CNOT\n",
    "CNOT_matrix = U_actual\n",
    "CNOT_tensor=np.reshape(CNOT_matrix, (2,2,2,2))"
   ]
  },
  {
   "cell_type": "code",
   "execution_count": 6,
   "id": "3f7f6b83",
   "metadata": {},
   "outputs": [],
   "source": [
    "class Reg: \n",
    "    def __init__(self,n):\n",
    "        self.n=n\n",
    "        self.psi=np.zeros((2,)*n) \n",
    "        self.psi[(0,)*n]=1\n",
    "        \n",
    "def H(i,reg): \n",
    "    reg.psi=np.tensordot(H_matrix,reg.psi,(1,i)) \n",
    "    reg.psi=np.moveaxis(reg.psi,0,i)\n",
    "\n",
    "def CNOT(control, target, reg):\n",
    "    reg.psi=np.tensordot(CNOT_tensor, reg.psi, ((2,3),(control, target))) \n",
    "    reg.psi=np.moveaxis(reg.psi,(0,1),(control,target))   \n",
    "\n",
    "def measure(i,reg): \n",
    "    projectors=[ np.array([[1,0],[0,0]]), np.array([[0,0],[0,1]]) ] \n",
    "    \n",
    "    def project(i,j,reg): \n",
    "        projected=np.tensordot(projectors[j],reg.psi,(1,i))\n",
    "        return np.moveaxis(projected,0,i)\n",
    "    \n",
    "    projected=project(i,0,reg) \n",
    "    norm_projected=norm(projected.flatten()) \n",
    "    if np.random.random()<norm_projected**2: \n",
    "        reg.psi=projected/norm_projected\n",
    "        return 0\n",
    "    else:\n",
    "        projected=project(i,1,reg)\n",
    "        reg.psi=projected/norm(projected)\n",
    "        return 1"
   ]
  },
  {
   "cell_type": "code",
   "execution_count": 7,
   "id": "61e58d34",
   "metadata": {},
   "outputs": [
    {
     "data": {
      "text/plain": [
       "array([[1., 0.],\n",
       "       [0., 0.]])"
      ]
     },
     "execution_count": 7,
     "metadata": {},
     "output_type": "execute_result"
    }
   ],
   "source": [
    "# State 0 for both registers\n",
    "reg=Reg(2)\n",
    "reg.psi"
   ]
  },
  {
   "cell_type": "code",
   "execution_count": 8,
   "id": "eaf63409",
   "metadata": {},
   "outputs": [
    {
     "data": {
      "text/plain": [
       "array([[0.5, 0.5],\n",
       "       [0.5, 0.5]])"
      ]
     },
     "execution_count": 8,
     "metadata": {},
     "output_type": "execute_result"
    }
   ],
   "source": [
    "# Apply Hadamard transformation to register - first time\n",
    "for i in range(reg.n):\n",
    "    H(i,reg)\n",
    "\n",
    "reg.psi"
   ]
  },
  {
   "cell_type": "code",
   "execution_count": 9,
   "id": "ae405035",
   "metadata": {},
   "outputs": [
    {
     "data": {
      "text/plain": [
       "array([[ 1., -1.],\n",
       "       [ 1., -1.]])"
      ]
     },
     "execution_count": 9,
     "metadata": {},
     "output_type": "execute_result"
    }
   ],
   "source": [
    "# Assuming a constant function f = [1,0,1,0]\n",
    "# Appplying the f-controlled phase shift\n",
    "func_x =np.array([[1,0],[1,0]])\n",
    "\n",
    "\n",
    "func_x = np.where(func_x == 0, -1, func_x)\n",
    "\n",
    "state_funcx = np.dot(reg.psi, func_x)\n",
    "\n",
    "reg.psi = state_funcx\n",
    "\n",
    "reg.psi"
   ]
  },
  {
   "cell_type": "code",
   "execution_count": 10,
   "id": "66fef216",
   "metadata": {},
   "outputs": [
    {
     "data": {
      "text/plain": [
       "array([[1.24465706e-18, 2.00000000e+00],\n",
       "       [1.19558417e-33, 6.50353591e-17]])"
      ]
     },
     "execution_count": 10,
     "metadata": {},
     "output_type": "execute_result"
    }
   ],
   "source": [
    "# Apply Hadamard transformation again to register - Final time\n",
    "for i in range(reg.n):\n",
    "    H(i,reg)\n",
    "reg.psi"
   ]
  },
  {
   "cell_type": "code",
   "execution_count": 11,
   "id": "2eda4ed9",
   "metadata": {},
   "outputs": [
    {
     "name": "stdout",
     "output_type": "stream",
     "text": [
      "measure(0,reg) 0\n",
      "reg psi_0  [[6.22328532e-19 1.00000000e+00]\n",
      " [0.00000000e+00 0.00000000e+00]]\n"
     ]
    }
   ],
   "source": [
    "# measure the final state of the bit 0\n",
    "print('measure(0,reg)',measure(0,reg))\n",
    "\n",
    "print('reg psi_0 ',reg.psi)\n",
    "# measure the final state of the bit 0\n",
    "# print('measure(1,reg)',measure(1,reg))"
   ]
  },
  {
   "cell_type": "code",
   "execution_count": 12,
   "id": "201c6043",
   "metadata": {},
   "outputs": [
    {
     "name": "stdout",
     "output_type": "stream",
     "text": [
      "reg psi_1  [[6.22328532e-19 1.00000000e+00]\n",
      " [0.00000000e+00 0.00000000e+00]]\n",
      "measure(1,reg) 1\n"
     ]
    }
   ],
   "source": [
    "# measure the final state of the bit 0\n",
    "#print('measure(0,reg)',measure(0,reg))\n",
    "\n",
    "print('reg psi_1 ',reg.psi)\n",
    "# measure the final state of the bit 0\n",
    "print('measure(1,reg)',measure(1,reg))"
   ]
  },
  {
   "cell_type": "code",
   "execution_count": 13,
   "id": "1c54e34c",
   "metadata": {},
   "outputs": [
    {
     "name": "stdout",
     "output_type": "stream",
     "text": [
      "The function of the first qubit is constant.\n"
     ]
    }
   ],
   "source": [
    "if measure(0,reg) > 0:  # f(x) is balanced\n",
    "    print(\"The function of the first qubit is balanced.\")\n",
    "else:  # f(x) is constant\n",
    "    print(\"The function of the first qubit is constant.\")\n"
   ]
  },
  {
   "cell_type": "code",
   "execution_count": 14,
   "id": "900a8454",
   "metadata": {},
   "outputs": [
    {
     "name": "stdout",
     "output_type": "stream",
     "text": [
      "The function of the second qubit is balanced.\n"
     ]
    }
   ],
   "source": [
    "if measure(1,reg) > 0:  # f(x) is balanced\n",
    "    print(\"The function of the second qubit is balanced.\")\n",
    "else:  # f(x) is constant\n",
    "    print(\"The function of the second qubit is constant.\")"
   ]
  },
  {
   "cell_type": "code",
   "execution_count": null,
   "id": "c6d7f387",
   "metadata": {},
   "outputs": [],
   "source": []
  }
 ],
 "metadata": {
  "kernelspec": {
   "display_name": "Python 3 (ipykernel)",
   "language": "python",
   "name": "python3"
  },
  "language_info": {
   "codemirror_mode": {
    "name": "ipython",
    "version": 3
   },
   "file_extension": ".py",
   "mimetype": "text/x-python",
   "name": "python",
   "nbconvert_exporter": "python",
   "pygments_lexer": "ipython3",
   "version": "3.8.8"
  }
 },
 "nbformat": 4,
 "nbformat_minor": 5
}
