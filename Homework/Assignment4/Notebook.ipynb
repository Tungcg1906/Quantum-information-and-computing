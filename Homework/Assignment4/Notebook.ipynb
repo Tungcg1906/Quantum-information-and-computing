{
 "cells": [
  {
   "cell_type": "markdown",
   "metadata": {},
   "source": [
    "# Quantum Information and Computing"
   ]
  },
  {
   "cell_type": "markdown",
   "metadata": {},
   "source": [
    "Nguyen Xuan Tung\n",
    "\n",
    "ID: 2005491\n",
    "    \n",
    "Week 4, Exercise: Continuous time-independent Schrodinger Equation:\n",
    "        \n",
    "Consider  the  one  dimensional  quantum  har-monic oscillator defined by the Hamiltonian:\n",
    "\n",
    "$$ H = \\hat{p}^{2} + \\omega^{2} \\hat{q}^{2} $$\n",
    "            \n",
    "(a)  Write a Fortran program to compute the first 𝑘 eigen values $𝐸_𝑘$ and eigenvectors |Ψ𝑘⟩.\n",
    "            \n",
    "(b)  How would you rate your program in terms of the priorities we introduced in class for good scientificsoftware development (Correctness, Stability, Accurate discretization, Flexibility, Efficiency)?\n",
    "    \n",
    "    "
   ]
  },
  {
   "cell_type": "code",
   "execution_count": 1,
   "metadata": {},
   "outputs": [],
   "source": [
    "import matplotlib.pyplot as plt               \n",
    "import numpy as np                            \n",
    "import numpy.polynomial.hermite as Herm\n",
    "import math"
   ]
  },
  {
   "cell_type": "markdown",
   "metadata": {},
   "source": [
    "### Define function"
   ]
  },
  {
   "cell_type": "code",
   "execution_count": 2,
   "metadata": {},
   "outputs": [],
   "source": [
    "def QHO_Eigenvls_true(intmin,intmax,omega):\n",
    "    return omega*(np.arange(intmin,intmax,1)+.5)"
   ]
  },
  {
   "cell_type": "code",
   "execution_count": 3,
   "metadata": {},
   "outputs": [],
   "source": [
    "def QHO_Eigenf_true(N,L,n): #Evaluates the n-th exact eigenfunction of the h.o. on the point x\n",
    "    psi = []\n",
    "    w = 1\n",
    "    x = np.arange(0,N+1)*L/N - L/2\n",
    "    \n",
    "    # coefficients for Hermite series, all 0s except the n-th term\n",
    "    herm_coeff = []\n",
    "    for i in range(n):\n",
    "        herm_coeff.append(0)\n",
    "    herm_coeff.append(1)\n",
    "\n",
    "    psi = np.exp(-w*x**2/(2)) * Herm.hermval((w)**0.5 * x, herm_coeff)\n",
    "    # normalization factor for the wavefunction:\n",
    "    psi = np.multiply(psi, 1 / ((2**n) * np.math.factorial(n))**0.5 * (1/(np.pi))**0.25)\n",
    "    return psi "
   ]
  },
  {
   "cell_type": "code",
   "execution_count": 4,
   "metadata": {},
   "outputs": [],
   "source": [
    "prettycolor = ['red', 'orange', 'yellow', 'blue', 'green']\n",
    "\n",
    "def plot_eival_Ns(L,Ns,W,verbose=0, below=False):\n",
    "    for i,N in enumerate(Ns):\n",
    "        folder = 'L'+str(L)+'-N'+str(N)+'-W'+str(W)\n",
    "        ! echo $L $N $W $folder $verbose | ./qho\n",
    "        eivals = np.genfromtxt('./'+folder+'/eigenvalues.csv', delimiter='')\n",
    "    \n",
    "        #eivals = np.sort(eivals)\n",
    "        \n",
    "        plt.plot(np.arange(0,len(eivals)),np.sort(eivals),'+',alpha=0.8,ms=4.5,label='N='+str(N),color=prettycolor[i])\n",
    "        \n",
    "    plt.xscale('Log')\n",
    "    plt.yscale('Log')\n",
    "    plt.plot(np.arange(1,100),QHO_Eigenvls_true(1,100,W),'--',color='red',label='Theoretical',alpha=0.5)\n",
    "    plt.ylim(1,1000)\n",
    "    plt.xlim(1,100)\n",
    "    if below:\n",
    "        plt.xlabel('Log(N)')\n",
    "        plt.ylabel(r'Log($E_n$)')\n",
    "        plt.title('L = '+str(L))\n",
    "        plt.legend()\n",
    "    \n",
    "def plot_eidiff_Ns(L,Ns,W,verbose=0, below=False):\n",
    "    for i,N in enumerate(Ns):\n",
    "        folder = 'L'+str(L)+'-N'+str(N)+'-W'+str(W)\n",
    "        eispc = np.genfromtxt('./'+folder+'/eigenvalues.csv', delimiter='')\n",
    "    \n",
    "        #eispc = np.sort(eispc)\n",
    "        eispc = np.abs(eispc - QHO_Eigenvls_true(0,N+1,W))/QHO_Eigenvls_true(0,N+1,W)\n",
    "        \n",
    "        plt.plot(np.arange(0,len(eispc)),eispc,'o',alpha=0.5,ms=2,label='N='+str(N),color=prettycolor[i])\n",
    "        \n",
    "        plt.xscale('Log')\n",
    "        plt.yscale('Log')\n",
    "    #plt.ylim(1,1000)\n",
    "    #plt.xlim(1,100)\n",
    "        if below:\n",
    "            plt.xlabel('Log(N)')\n",
    "            plt.ylabel(r'Log($err(E_n)$)')\n",
    "            plt.title('L = '+str(L))\n",
    "            plt.legend()\n"
   ]
  },
  {
   "cell_type": "code",
   "execution_count": 5,
   "metadata": {},
   "outputs": [],
   "source": [
    "def plot_wavefunction(L,N,W,n,ranx=10):\n",
    "    folder = 'L'+str(L)+'-N'+str(N)+'-W'+str(W)\n",
    "    \n",
    "    eifu = + np.genfromtxt('./'+folder+'/eigenvectors.csv', delimiter='')\n",
    "    eifu = eifu[:,n]\n",
    "    neifu = eifu/np.linalg.norm(eifu)\n",
    "    \n",
    "    true = QHO_Eigenf_true(N,L,n)\n",
    "    ntrue = true/np.linalg.norm(true)\n",
    "    \n",
    "    #print('non flippato:', abs(np.sum(np.abs(ntrue - neifu))))\n",
    "    #print('    flippato:', abs(np.sum(np.abs(ntrue + neifu))))\n",
    "    if(abs(np.sum(np.abs(ntrue + neifu))) < abs(np.sum(np.abs(ntrue - neifu))) ):\n",
    "        neifu = - neifu\n",
    "        \n",
    "        plt.plot(np.arange(0,N+1)*L/N - L/2,neifu,label=r'$\\psi^{{{0}}}_{{{1}}}$'.format('NUM',n),\n",
    "             color='royalblue',alpha=1)\n",
    "        plt.plot(np.arange(0,N+1)*L/N - L/2,ntrue, label=r'$\\psi^{{{0}}}_{{{1}}}$'.format('TH',n),\n",
    "             color='yellow',alpha=0.7)\n",
    "    \n",
    "        plt.title('N='+str(N)+', L='+str(L))\n",
    "        plt.legend(prop={'size': 12})\n",
    "    \n",
    "        plt.ticklabel_format(axis=\"y\", style=\"sci\", scilimits=(0,0))\n",
    "        plt.xlim(-ranx,ranx)\n",
    "        plt.xlabel('x')"
   ]
  },
  {
   "cell_type": "code",
   "execution_count": 6,
   "metadata": {},
   "outputs": [],
   "source": [
    "def plot_wavefunctiondiff(L,N,W,n,ranx=10):\n",
    "    folder = 'L'+str(L)+'-N'+str(N)+'-W'+str(W)\n",
    "    \n",
    "    eifu = + np.genfromtxt('./'+folder+'/eigenvectors.csv', delimiter='')\n",
    "    eifu = eifu[:,n]\n",
    "    neifu = eifu/np.linalg.norm(eifu)\n",
    "    \n",
    "    true = QHO_Eigenf_true(N,L,n)\n",
    "    ntrue = true/np.linalg.norm(true)\n",
    "    \n",
    "    if(abs(np.sum(np.abs(ntrue + neifu))) < abs(np.sum(np.abs(ntrue - neifu))) ):\n",
    "        neifu = - neifu\n",
    "    \n",
    "        plt.plot(np.arange(0,N+1)*L/N - L/2, (neifu - ntrue), color='crimson')\n",
    "        plt.ticklabel_format(axis=\"y\", style=\"sci\", scilimits=(0,0))\n",
    "    \n",
    "        plt.title('Error: N='+str(N)+', L='+str(L))\n",
    "        plt.xlabel('x')\n",
    "    \n",
    "        plt.xlim(-ranx,ranx)"
   ]
  },
  {
   "cell_type": "code",
   "execution_count": 7,
   "metadata": {},
   "outputs": [],
   "source": [
    "def plot_wavefunctionerr(L,N,W,n):\n",
    "    folder = 'L'+str(L)+'-N'+str(N)+'-W'+str(W)\n",
    "    eifu = + np.genfromtxt('./'+folder+'/eigenvectors.csv', delimiter='')\n",
    "    \n",
    "    err = []\n",
    "    for en in range(0,n):\n",
    "        \n",
    "        en_eifu = eifu[:,en]\n",
    "        en_neifu = en_eifu/np.linalg.norm(en_eifu)\n",
    "\n",
    "        true = QHO_Eigenf_true(N,L,en)\n",
    "        ntrue = true/np.linalg.norm(true)\n",
    "        \n",
    "        if(abs(np.sum(np.abs(ntrue + en_neifu))) < abs(np.sum(np.abs(ntrue - en_neifu))) ):\n",
    "            en_neifu = - en_neifu\n",
    "            \n",
    "        err.append( abs(np.sum(np.abs(ntrue - en_neifu)) ) )\n",
    "        \n",
    "        plt.plot(np.arange(0,len(err)), err, 'o', ms = 3, color='crimson')\n",
    "        plt.plot(np.arange(0,len(err)), err, ms = 3, color='crimson', alpha=.3)"
   ]
  },
  {
   "cell_type": "markdown",
   "metadata": {},
   "source": [
    "### Compiling"
   ]
  },
  {
   "cell_type": "code",
   "execution_count": 8,
   "metadata": {},
   "outputs": [],
   "source": [
    "! gfortran ./schro-eq.f90 -o ./qho -llapack"
   ]
  },
  {
   "cell_type": "markdown",
   "metadata": {},
   "source": [
    "### Eigenvalues"
   ]
  },
  {
   "cell_type": "code",
   "execution_count": 9,
   "metadata": {},
   "outputs": [],
   "source": [
    "L = 10\n",
    "N = 1000\n",
    "W = 1\n",
    "\n",
    "Ns = [5, 10, 100, 500, 1000]"
   ]
  },
  {
   "cell_type": "code",
   "execution_count": 10,
   "metadata": {},
   "outputs": [
    {
     "name": "stdout",
     "output_type": "stream",
     "text": [
      " +           QUANTUM HARMONIC               +\n",
      " ----------------------------------------------------------\n",
      " + Type: L, N, omega and folder name:  + Data will be saved in: ./L10-N5-W1\n",
      " + Lenght of x space (L):    10.0000000    \n",
      " + Number of points  (N):            5\n",
      " + Angular frequency (ω):    1.00000000    \n",
      " \n",
      " + Computing the Hamiltonian...\n",
      "  !!! H matrix is too big to be printed on screen !!!\n",
      " \n",
      " + Computing Eigenvalues & Eigenvectors...\n",
      "   Eigenvalues:\n",
      "    0.621214390    \n",
      "    0.870970547    \n",
      "     4.75183249    \n",
      "     4.75207663    \n",
      "     12.7519531    \n",
      "   writing on file: ./L10-N5-W1/eigenvalues.csv\n",
      "   writing on file: ./L10-N5-W1/eigenvectors.csv\n",
      " \n",
      " Done!\n",
      " +           QUANTUM HARMONIC               +\n",
      " ----------------------------------------------------------\n",
      " + Type: L, N, omega and folder name:  + Data will be saved in: ./L10-N10-W1\n",
      " + Lenght of x space (L):    10.0000000    \n",
      " + Number of points  (N):           10\n",
      " + Angular frequency (ω):    1.00000000    \n",
      " \n",
      " + Computing the Hamiltonian...\n",
      "  !!! H matrix is too big to be printed on screen !!!\n",
      " \n",
      " + Computing Eigenvalues & Eigenvectors...\n",
      "   Eigenvalues:\n",
      "    0.464935154    \n",
      "     1.34336019    \n",
      "     1.85363436    \n",
      "     3.05650449    \n",
      "     3.08122730    \n",
      "   writing on file: ./L10-N10-W1/eigenvalues.csv\n",
      "   writing on file: ./L10-N10-W1/eigenvectors.csv\n",
      " \n",
      " Done!\n",
      " +           QUANTUM HARMONIC               +\n",
      " ----------------------------------------------------------\n",
      " + Type: L, N, omega and folder name:  + Data will be saved in: ./L10-N100-W1\n",
      " + Lenght of x space (L):    10.0000000    \n",
      " + Number of points  (N):          100\n",
      " + Angular frequency (ω):    1.00000000    \n",
      " \n",
      " + Computing the Hamiltonian...\n",
      "  !!! H matrix is too big to be printed on screen !!!\n",
      " \n",
      " + Computing Eigenvalues & Eigenvectors...\n",
      "   Eigenvalues:\n",
      "    0.499686986    \n",
      "     1.49843645    \n",
      "     2.49593091    \n",
      "     3.49217010    \n",
      "     4.48715544    \n",
      "   writing on file: ./L10-N100-W1/eigenvalues.csv\n",
      "   writing on file: ./L10-N100-W1/eigenvectors.csv\n",
      " \n",
      " Done!\n",
      " +           QUANTUM HARMONIC               +\n",
      " ----------------------------------------------------------\n",
      " + Type: L, N, omega and folder name:  + Data will be saved in: ./L10-N500-W1\n",
      " + Lenght of x space (L):    10.0000000    \n",
      " + Number of points  (N):          500\n",
      " + Angular frequency (ω):    1.00000000    \n",
      " \n",
      " + Computing the Hamiltonian...\n",
      "  !!! H matrix is too big to be printed on screen !!!\n",
      " \n",
      " + Computing Eigenvalues & Eigenvectors...\n",
      "   Eigenvalues:\n",
      "    0.499971390    \n",
      "     1.49993896    \n",
      "     2.49983692    \n",
      "     3.49969387    \n",
      "     4.49949884    \n",
      "   writing on file: ./L10-N500-W1/eigenvalues.csv\n",
      "   writing on file: ./L10-N500-W1/eigenvectors.csv\n",
      " \n",
      " Done!\n",
      " +           QUANTUM HARMONIC               +\n",
      " ----------------------------------------------------------\n",
      " + Type: L, N, omega and folder name:  + Data will be saved in: ./L10-N1000-W1\n",
      " + Lenght of x space (L):    10.0000000    \n",
      " + Number of points  (N):         1000\n",
      " + Angular frequency (ω):    1.00000000    \n",
      " \n",
      " + Computing the Hamiltonian...\n",
      "  !!! H matrix is too big to be printed on screen !!!\n",
      " \n",
      " + Computing Eigenvalues & Eigenvectors...\n",
      "   Eigenvalues:\n",
      "    0.499983519    \n",
      "     1.49998260    \n",
      "     2.49993277    \n",
      "     3.49992132    \n",
      "     4.49989605    \n",
      "   writing on file: ./L10-N1000-W1/eigenvalues.csv\n",
      "   writing on file: ./L10-N1000-W1/eigenvectors.csv\n",
      " \n",
      " Done!\n"
     ]
    },
    {
     "data": {
      "image/png": "[encoded data removed]",
      "text/plain": [
       "<Figure size 432x288 with 1 Axes>"
      ]
     },
     "metadata": {
      "needs_background": "light"
     },
     "output_type": "display_data"
    }
   ],
   "source": [
    "L = 10 \n",
    "plot_eival_Ns(L,Ns,W)"
   ]
  },
  {
   "cell_type": "code",
   "execution_count": 11,
   "metadata": {},
   "outputs": [
    {
     "name": "stdout",
     "output_type": "stream",
     "text": [
      " +           QUANTUM HARMONIC               +\n",
      " ----------------------------------------------------------\n",
      " + Type: L, N, omega and folder name:  + Data will be saved in: ./L50-N5-W1\n",
      " + Lenght of x space (L):    50.0000000    \n",
      " + Number of points  (N):            5\n",
      " + Angular frequency (ω):    1.00000000    \n",
      " \n",
      " + Computing the Hamiltonian...\n",
      "  !!! H matrix is too big to be printed on screen !!!\n",
      " \n",
      " + Computing Eigenvalues & Eigenvectors...\n",
      "   Eigenvalues:\n",
      "     12.5050001    \n",
      "     12.5150003    \n",
      "     112.510002    \n",
      "     112.510002    \n",
      "     312.510010    \n",
      "   writing on file: ./L50-N5-W1/eigenvalues.csv\n",
      "   writing on file: ./L50-N5-W1/eigenvectors.csv\n",
      " \n",
      " Done!\n",
      " +           QUANTUM HARMONIC               +\n",
      " ----------------------------------------------------------\n",
      " + Type: L, N, omega and folder name:  + Data will be saved in: ./L50-N10-W1\n",
      " + Lenght of x space (L):    50.0000000    \n",
      " + Number of points  (N):           10\n",
      " + Angular frequency (ω):    1.00000000    \n",
      " \n",
      " + Computing the Hamiltonian...\n",
      "  !!! H matrix is too big to be printed on screen !!!\n",
      " \n",
      " + Computing Eigenvalues & Eigenvectors...\n",
      "   Eigenvalues:\n",
      "     3.99359986E-02\n",
      "     12.5399895    \n",
      "     12.5400534    \n",
      "     50.0400047    \n",
      "     50.0400047    \n",
      "   writing on file: ./L50-N10-W1/eigenvalues.csv\n",
      "   writing on file: ./L50-N10-W1/eigenvectors.csv\n",
      " \n",
      " Done!\n",
      " +           QUANTUM HARMONIC               +\n",
      " ----------------------------------------------------------\n",
      " + Type: L, N, omega and folder name:  + Data will be saved in: ./L50-N100-W1\n",
      " + Lenght of x space (L):    50.0000000    \n",
      " + Number of points  (N):          100\n",
      " + Angular frequency (ω):    1.00000000    \n",
      " \n",
      " + Computing the Hamiltonian...\n",
      "  !!! H matrix is too big to be printed on screen !!!\n",
      " \n",
      " + Computing Eigenvalues & Eigenvectors...\n",
      "   Eigenvalues:\n",
      "    0.492059261    \n",
      "     1.45974207    \n",
      "     2.39360023    \n",
      "     3.29151702    \n",
      "     4.15086555    \n",
      "   writing on file: ./L50-N100-W1/eigenvalues.csv\n",
      "   writing on file: ./L50-N100-W1/eigenvectors.csv\n",
      " \n",
      " Done!\n",
      " +           QUANTUM HARMONIC               +\n",
      " ----------------------------------------------------------\n",
      " + Type: L, N, omega and folder name:  + Data will be saved in: ./L50-N500-W1\n",
      " + Lenght of x space (L):    50.0000000    \n",
      " + Number of points  (N):          500\n",
      " + Angular frequency (ω):    1.00000000    \n",
      " \n",
      " + Computing the Hamiltonian...\n",
      "  !!! H matrix is too big to be printed on screen !!!\n",
      " \n",
      " + Computing Eigenvalues & Eigenvectors...\n",
      "   Eigenvalues:\n",
      "    0.499686837    \n",
      "     1.49843574    \n",
      "     2.49592972    \n",
      "     3.49216938    \n",
      "     4.48715019    \n",
      "   writing on file: ./L50-N500-W1/eigenvalues.csv\n",
      "   writing on file: ./L50-N500-W1/eigenvectors.csv\n",
      " \n",
      " Done!\n",
      " +           QUANTUM HARMONIC               +\n",
      " ----------------------------------------------------------\n",
      " + Type: L, N, omega and folder name:  + Data will be saved in: ./L50-N1000-W1\n",
      " + Lenght of x space (L):    50.0000000    \n",
      " + Number of points  (N):         1000\n",
      " + Angular frequency (ω):    1.00000000    \n",
      " \n",
      " + Computing the Hamiltonian...\n",
      "  !!! H matrix is too big to be printed on screen !!!\n",
      " \n",
      " + Computing Eigenvalues & Eigenvectors...\n",
      "   Eigenvalues:\n",
      "    0.499921858    \n",
      "     1.49960923    \n",
      "     2.49898434    \n",
      "     3.49804473    \n",
      "     4.49679470    \n",
      "   writing on file: ./L50-N1000-W1/eigenvalues.csv\n",
      "   writing on file: ./L50-N1000-W1/eigenvectors.csv\n",
      " \n",
      " Done!\n"
     ]
    },
    {
     "data": {
      "image/png": "[encoded data removed]",
      "text/plain": [
       "<Figure size 432x288 with 1 Axes>"
      ]
     },
     "metadata": {
      "needs_background": "light"
     },
     "output_type": "display_data"
    }
   ],
   "source": [
    "L = 50\n",
    "plot_eival_Ns(L,Ns,W)"
   ]
  },
  {
   "cell_type": "code",
   "execution_count": 12,
   "metadata": {},
   "outputs": [
    {
     "data": {
      "image/png": "[encoded data removed]",
      "text/plain": [
       "<Figure size 432x288 with 1 Axes>"
      ]
     },
     "metadata": {
      "needs_background": "light"
     },
     "output_type": "display_data"
    }
   ],
   "source": [
    "Ns = [5, 10, 100, 500, 1000]\n",
    "\n",
    "L = 10\n",
    "plot_eidiff_Ns(L,Ns,W)"
   ]
  },
  {
   "cell_type": "code",
   "execution_count": 13,
   "metadata": {},
   "outputs": [
    {
     "data": {
      "image/png": "[encoded data removed]",
      "text/plain": [
       "<Figure size 432x288 with 1 Axes>"
      ]
     },
     "metadata": {
      "needs_background": "light"
     },
     "output_type": "display_data"
    }
   ],
   "source": [
    "L = 50\n",
    "plot_eidiff_Ns(L,Ns,W)"
   ]
  },
  {
   "cell_type": "markdown",
   "metadata": {},
   "source": [
    "### Eigenvectors"
   ]
  },
  {
   "cell_type": "code",
   "execution_count": 18,
   "metadata": {},
   "outputs": [],
   "source": [
    "L = 50\n",
    "N = 500\n",
    "W = 1"
   ]
  },
  {
   "cell_type": "code",
   "execution_count": 19,
   "metadata": {},
   "outputs": [
    {
     "data": {
      "image/png": "[encoded data removed]",
      "text/plain": [
       "<Figure size 432x288 with 1 Axes>"
      ]
     },
     "metadata": {
      "needs_background": "light"
     },
     "output_type": "display_data"
    }
   ],
   "source": [
    "plot_wavefunction(L,N,W,0)"
   ]
  },
  {
   "cell_type": "code",
   "execution_count": 22,
   "metadata": {},
   "outputs": [
    {
     "data": {
      "image/png": "[encoded data removed]",
      "text/plain": [
       "<Figure size 432x288 with 1 Axes>"
      ]
     },
     "metadata": {
      "needs_background": "light"
     },
     "output_type": "display_data"
    }
   ],
   "source": [
    "plot_wavefunction(L,N,W,10)"
   ]
  },
  {
   "cell_type": "code",
   "execution_count": null,
   "metadata": {},
   "outputs": [],
   "source": []
  },
  {
   "cell_type": "code",
   "execution_count": null,
   "metadata": {},
   "outputs": [],
   "source": []
  },
  {
   "cell_type": "code",
   "execution_count": null,
   "metadata": {},
   "outputs": [],
   "source": []
  },
  {
   "cell_type": "code",
   "execution_count": null,
   "metadata": {},
   "outputs": [],
   "source": []
  }
 ],
 "metadata": {
  "kernelspec": {
   "display_name": "Python 3",
   "language": "python",
   "name": "python3"
  },
  "language_info": {
   "codemirror_mode": {
    "name": "ipython",
    "version": 3
   },
   "file_extension": ".py",
   "mimetype": "text/x-python",
   "name": "python",
   "nbconvert_exporter": "python",
   "pygments_lexer": "ipython3",
   "version": "3.8.10"
  }
 },
 "nbformat": 4,
 "nbformat_minor": 2
}
